{
 "cells": [
  {
   "cell_type": "markdown",
   "id": "65b2b9f9-9e0a-4ac3-9049-edde0034a496",
   "metadata": {},
   "source": [
    "<font size=\"6\">**Project definition**</font>\n",
    "\n",
    "This projects aims at showing how an ANN can be trained and fitted to a classification problem. "
   ]
  },
  {
   "cell_type": "code",
   "execution_count": null,
   "id": "7b3f2dfa-58e7-42d0-959a-83119f53ed4d",
   "metadata": {},
   "outputs": [],
   "source": [
    "#%pip install tensorflow"
   ]
  },
  {
   "cell_type": "code",
   "execution_count": 198,
   "id": "c822b0bd-7052-484f-8ffa-18f10f4066f2",
   "metadata": {},
   "outputs": [],
   "source": [
    "import numpy as np\n",
    "from tensorflow import keras\n",
    "from sklearn.model_selection import train_test_split\n",
    "import matplotlib.pyplot as plt\n",
    "import pandas as pd"
   ]
  },
  {
   "cell_type": "code",
   "execution_count": 10,
   "id": "c0a0daff-7cc2-4fb2-afb0-e16956cec8b1",
   "metadata": {},
   "outputs": [
    {
     "data": {
      "text/plain": [
       "'3.5.0'"
      ]
     },
     "execution_count": 10,
     "metadata": {},
     "output_type": "execute_result"
    }
   ],
   "source": [
    "keras.__version__"
   ]
  },
  {
   "cell_type": "markdown",
   "id": "2037c31d-a727-40be-9ac5-2af6dd3a2329",
   "metadata": {},
   "source": [
    "<font size=\"3\">**Load dataset**</font>\n",
    "\n",
    "I load the Fashion MNIST dataset available in Keras."
   ]
  },
  {
   "cell_type": "code",
   "execution_count": 17,
   "id": "e30420dc-2770-40fb-9962-2a6101d479aa",
   "metadata": {},
   "outputs": [
    {
     "name": "stdout",
     "output_type": "stream",
     "text": [
      "Downloading data from https://storage.googleapis.com/tensorflow/tf-keras-datasets/train-labels-idx1-ubyte.gz\n",
      "\u001b[1m29515/29515\u001b[0m \u001b[32m━━━━━━━━━━━━━━━━━━━━\u001b[0m\u001b[37m\u001b[0m \u001b[1m0s\u001b[0m 1us/step\n",
      "Downloading data from https://storage.googleapis.com/tensorflow/tf-keras-datasets/train-images-idx3-ubyte.gz\n",
      "\u001b[1m26421880/26421880\u001b[0m \u001b[32m━━━━━━━━━━━━━━━━━━━━\u001b[0m\u001b[37m\u001b[0m \u001b[1m1s\u001b[0m 0us/step\n",
      "Downloading data from https://storage.googleapis.com/tensorflow/tf-keras-datasets/t10k-labels-idx1-ubyte.gz\n",
      "\u001b[1m5148/5148\u001b[0m \u001b[32m━━━━━━━━━━━━━━━━━━━━\u001b[0m\u001b[37m\u001b[0m \u001b[1m0s\u001b[0m 0us/step\n",
      "Downloading data from https://storage.googleapis.com/tensorflow/tf-keras-datasets/t10k-images-idx3-ubyte.gz\n",
      "\u001b[1m4422102/4422102\u001b[0m \u001b[32m━━━━━━━━━━━━━━━━━━━━\u001b[0m\u001b[37m\u001b[0m \u001b[1m0s\u001b[0m 0us/step\n"
     ]
    }
   ],
   "source": [
    "fashion_mnist = keras.datasets.fashion_mnist\n",
    "(X_train_full, y_train_full), (X_test, y_test) = fashion_mnist.load_data()"
   ]
  },
  {
   "cell_type": "code",
   "execution_count": 39,
   "id": "698daed6-bd4b-4a56-aa18-24b24e78e6a0",
   "metadata": {},
   "outputs": [
    {
     "data": {
      "text/plain": [
       "((60000, 28, 28), (60000,), (10000, 28, 28), (10000,))"
      ]
     },
     "execution_count": 39,
     "metadata": {},
     "output_type": "execute_result"
    }
   ],
   "source": [
    "X_train_full.shape , y_train_full.shape, X_test.shape, y_test.shape"
   ]
  },
  {
   "cell_type": "markdown",
   "id": "42192902-2107-41ad-9fdf-74ccad6dbfcc",
   "metadata": {},
   "source": [
    "<font size=\"3\">**Split dataset and define training, testing, and validation sets**</font>"
   ]
  },
  {
   "cell_type": "code",
   "execution_count": 41,
   "id": "1330156e-41d0-4af0-a435-f04dfb6b04d2",
   "metadata": {},
   "outputs": [],
   "source": [
    "X_train, X_valid, y_train, y_valid = train_test_split(X_train_full, y_train_full , train_size = 55000, test_size = 5000, random_state = 42)"
   ]
  },
  {
   "cell_type": "code",
   "execution_count": 43,
   "id": "a6e0bdb2-69b6-40a4-8f0e-4e4343567c30",
   "metadata": {},
   "outputs": [],
   "source": [
    "X_train = X_train/255\n",
    "X_test = X_test/255\n",
    "X_valid = X_valid/255"
   ]
  },
  {
   "cell_type": "markdown",
   "id": "ee6f5289-d3c7-4114-abea-486e7d3b4157",
   "metadata": {},
   "source": [
    "<font size=\"3\">**Visualizing the data**</font>"
   ]
  },
  {
   "cell_type": "code",
   "execution_count": 112,
   "id": "176e4dde-34b5-4921-9562-d94af9779e95",
   "metadata": {},
   "outputs": [
    {
     "data": {
      "text/plain": [
       "array([[0.        , 0.        , 0.        , 0.        , 0.        ,\n",
       "        0.        , 0.        , 0.        , 0.        , 0.00784314,\n",
       "        0.        , 0.        , 0.29411765, 0.63529412, 0.71372549,\n",
       "        0.69411765, 0.51372549, 0.05882353, 0.        , 0.        ,\n",
       "        0.00392157, 0.        , 0.        , 0.        , 0.00392157,\n",
       "        0.00392157, 0.00392157, 0.        ],\n",
       "       [0.        , 0.        , 0.        , 0.00392157, 0.        ,\n",
       "        0.        , 0.        , 0.        , 0.00392157, 0.        ,\n",
       "        0.        , 0.67843137, 0.83529412, 0.32156863, 0.17254902,\n",
       "        0.28627451, 0.56470588, 0.72941176, 0.4       , 0.        ,\n",
       "        0.        , 0.        , 0.        , 0.        , 0.00392157,\n",
       "        0.00392157, 0.00392157, 0.        ],\n",
       "       [0.        , 0.        , 0.        , 0.        , 0.        ,\n",
       "        0.        , 0.        , 0.        , 0.01176471, 0.        ,\n",
       "        0.45098039, 0.59607843, 0.        , 0.        , 0.        ,\n",
       "        0.        , 0.        , 0.11764706, 0.78039216, 0.28627451,\n",
       "        0.        , 0.02745098, 0.00392157, 0.        , 0.        ,\n",
       "        0.        , 0.        , 0.        ],\n",
       "       [0.        , 0.        , 0.        , 0.        , 0.00392157,\n",
       "        0.00392157, 0.        , 0.01176471, 0.        , 0.07058824,\n",
       "        0.70196078, 0.        , 0.        , 0.01176471, 0.00784314,\n",
       "        0.01568627, 0.        , 0.        , 0.43137255, 0.70980392,\n",
       "        0.        , 0.00784314, 0.01176471, 0.00392157, 0.00392157,\n",
       "        0.        , 0.        , 0.        ],\n",
       "       [0.        , 0.        , 0.        , 0.        , 0.00392157,\n",
       "        0.00392157, 0.        , 0.03137255, 0.        , 0.47058824,\n",
       "        0.48627451, 0.        , 0.01176471, 0.00392157, 0.        ,\n",
       "        0.        , 0.        , 0.        , 0.        , 0.79215686,\n",
       "        0.22745098, 0.        , 0.03137255, 0.00784314, 0.00392157,\n",
       "        0.00392157, 0.        , 0.        ],\n",
       "       [0.        , 0.        , 0.        , 0.        , 0.        ,\n",
       "        0.        , 0.        , 0.00392157, 0.        , 0.67843137,\n",
       "        0.25490196, 0.        , 0.01568627, 0.01568627, 0.        ,\n",
       "        0.00392157, 0.00392157, 0.        , 0.        , 0.70196078,\n",
       "        0.51764706, 0.        , 0.        , 0.00392157, 0.        ,\n",
       "        0.        , 0.        , 0.        ],\n",
       "       [0.        , 0.00392157, 0.        , 0.        , 0.        ,\n",
       "        0.        , 0.01176471, 0.        , 0.10588235, 0.81176471,\n",
       "        0.17647059, 0.        , 0.00784314, 0.00392157, 0.        ,\n",
       "        0.        , 0.        , 0.        , 0.        , 0.58039216,\n",
       "        0.66666667, 0.        , 0.        , 0.00392157, 0.00392157,\n",
       "        0.00392157, 0.        , 0.        ],\n",
       "       [0.        , 0.01176471, 0.        , 0.00392157, 0.01960784,\n",
       "        0.01568627, 0.01176471, 0.        , 0.53333333, 0.82745098,\n",
       "        0.41568627, 0.        , 0.00784314, 0.        , 0.        ,\n",
       "        0.        , 0.        , 0.        , 0.        , 0.75294118,\n",
       "        0.74901961, 0.16078431, 0.        , 0.00784314, 0.00392157,\n",
       "        0.01568627, 0.        , 0.00392157],\n",
       "       [0.        , 0.        , 0.        , 0.00392157, 0.        ,\n",
       "        0.        , 0.        , 0.        , 0.3254902 , 0.72941176,\n",
       "        0.39607843, 0.        , 0.        , 0.        , 0.        ,\n",
       "        0.        , 0.        , 0.        , 0.        , 0.54509804,\n",
       "        0.69019608, 0.27843137, 0.        , 0.        , 0.        ,\n",
       "        0.        , 0.00784314, 0.        ],\n",
       "       [0.        , 0.00784314, 0.        , 0.        , 0.18039216,\n",
       "        0.45882353, 0.54117647, 0.62745098, 0.90196078, 0.76470588,\n",
       "        0.91372549, 0.62745098, 0.68235294, 0.65882353, 0.67058824,\n",
       "        0.65490196, 0.65882353, 0.63921569, 0.67058824, 0.84313725,\n",
       "        0.65098039, 0.86666667, 0.51372549, 0.57254902, 0.48627451,\n",
       "        0.13333333, 0.        , 0.        ],\n",
       "       [0.        , 0.        , 0.        , 0.57647059, 0.80392157,\n",
       "        0.76470588, 0.71372549, 0.62352941, 0.74117647, 0.76470588,\n",
       "        0.76078431, 0.69803922, 0.71372549, 0.68235294, 0.67058824,\n",
       "        0.65882353, 0.64705882, 0.64705882, 0.68235294, 0.75294118,\n",
       "        0.76862745, 0.74509804, 0.69411765, 0.73333333, 0.82745098,\n",
       "        0.8745098 , 0.34117647, 0.        ],\n",
       "       [0.        , 0.        , 0.11764706, 0.77254902, 0.65098039,\n",
       "        0.71764706, 0.80392157, 0.77254902, 0.79607843, 0.8       ,\n",
       "        0.78431373, 0.70588235, 0.77254902, 0.78823529, 0.78431373,\n",
       "        0.77254902, 0.78431373, 0.80784314, 0.80392157, 0.8       ,\n",
       "        0.83921569, 0.80392157, 0.78431373, 0.81176471, 0.75686275,\n",
       "        0.85490196, 0.73333333, 0.        ],\n",
       "       [0.        , 0.        , 0.28235294, 0.79215686, 0.37254902,\n",
       "        0.48627451, 0.61960784, 0.79607843, 0.82745098, 0.82745098,\n",
       "        0.82352941, 0.69019608, 0.70588235, 0.74901961, 0.76470588,\n",
       "        0.78039216, 0.79215686, 0.8       , 0.80392157, 0.86666667,\n",
       "        0.85490196, 0.87058824, 0.8       , 0.70588235, 0.59607843,\n",
       "        0.71372549, 0.98431373, 0.01176471],\n",
       "       [0.        , 0.        , 0.6       , 0.81568627, 0.58039216,\n",
       "        0.50588235, 0.41568627, 0.57254902, 0.7254902 , 0.79607843,\n",
       "        0.78823529, 0.67058824, 0.64705882, 0.67058824, 0.6745098 ,\n",
       "        0.67058824, 0.64313725, 0.63529412, 0.6745098 , 0.74509804,\n",
       "        0.7372549 , 0.66666667, 0.52941176, 0.42745098, 0.5372549 ,\n",
       "        0.64313725, 0.97254902, 0.        ],\n",
       "       [0.        , 0.        , 0.68235294, 0.81568627, 0.47058824,\n",
       "        0.65490196, 0.70980392, 0.62745098, 0.64313725, 0.64313725,\n",
       "        0.63921569, 0.58431373, 0.62745098, 0.63529412, 0.64313725,\n",
       "        0.61176471, 0.58431373, 0.60392157, 0.56862745, 0.54509804,\n",
       "        0.57254902, 0.54117647, 0.60392157, 0.65098039, 0.70588235,\n",
       "        0.81176471, 0.9372549 , 0.04313725],\n",
       "       [0.        , 0.37254902, 0.7254902 , 0.82352941, 0.77254902,\n",
       "        0.71764706, 0.61960784, 0.66666667, 0.67843137, 0.67843137,\n",
       "        0.70588235, 0.70980392, 0.76078431, 0.77254902, 0.74901961,\n",
       "        0.74901961, 0.73333333, 0.69803922, 0.67843137, 0.67058824,\n",
       "        0.65490196, 0.64705882, 0.62352941, 0.60392157, 0.6745098 ,\n",
       "        0.8       , 0.91764706, 0.82352941],\n",
       "       [0.        , 0.10588235, 0.78039216, 0.78039216, 0.76078431,\n",
       "        0.83921569, 0.6       , 0.56862745, 0.6       , 0.59607843,\n",
       "        0.62745098, 0.64313725, 0.6745098 , 0.70588235, 0.69411765,\n",
       "        0.70588235, 0.69803922, 0.63921569, 0.63529412, 0.61960784,\n",
       "        0.58431373, 0.56862745, 0.5372549 , 0.52941176, 0.66666667,\n",
       "        0.78823529, 0.91764706, 0.63921569],\n",
       "       [0.        , 0.        , 0.83529412, 0.80784314, 0.52156863,\n",
       "        0.56470588, 0.58823529, 0.60392157, 0.62352941, 0.67058824,\n",
       "        0.67058824, 0.68235294, 0.69803922, 0.71764706, 0.70980392,\n",
       "        0.71764706, 0.71764706, 0.68235294, 0.63921569, 0.62745098,\n",
       "        0.6       , 0.58431373, 0.58431373, 0.54117647, 0.54901961,\n",
       "        0.77254902, 0.98823529, 0.18823529],\n",
       "       [0.        , 0.        , 0.67058824, 0.87058824, 0.50196078,\n",
       "        0.54509804, 0.57647059, 0.59607843, 0.58823529, 0.60392157,\n",
       "        0.63921569, 0.67058824, 0.69019608, 0.70980392, 0.70196078,\n",
       "        0.69411765, 0.69019608, 0.65490196, 0.63921569, 0.62745098,\n",
       "        0.59607843, 0.58039216, 0.58039216, 0.50588235, 0.50980392,\n",
       "        0.81960784, 0.97254902, 0.05882353],\n",
       "       [0.        , 0.        , 0.72941176, 0.83529412, 0.5372549 ,\n",
       "        0.56470588, 0.59215686, 0.6       , 0.60392157, 0.62352941,\n",
       "        0.65490196, 0.69019608, 0.70588235, 0.71764706, 0.70588235,\n",
       "        0.69019608, 0.67843137, 0.64705882, 0.65098039, 0.63529412,\n",
       "        0.61960784, 0.58431373, 0.59607843, 0.54901961, 0.54117647,\n",
       "        0.78039216, 0.98039216, 0.14117647],\n",
       "       [0.        , 0.        , 0.85490196, 0.79607843, 0.50980392,\n",
       "        0.57254902, 0.59607843, 0.59607843, 0.60392157, 0.62745098,\n",
       "        0.65882353, 0.69019608, 0.70588235, 0.7254902 , 0.73333333,\n",
       "        0.71372549, 0.70196078, 0.67843137, 0.63529412, 0.62745098,\n",
       "        0.61568627, 0.57254902, 0.59607843, 0.58039216, 0.54509804,\n",
       "        0.75686275, 0.93333333, 0.25098039],\n",
       "       [0.        , 0.        , 0.75294118, 0.77254902, 0.47058824,\n",
       "        0.59607843, 0.60392157, 0.59607843, 0.60392157, 0.63921569,\n",
       "        0.67843137, 0.71372549, 0.74509804, 0.75294118, 0.7372549 ,\n",
       "        0.72941176, 0.71372549, 0.69411765, 0.67058824, 0.65098039,\n",
       "        0.63529412, 0.61176471, 0.58431373, 0.56470588, 0.54117647,\n",
       "        0.7254902 , 0.9372549 , 0.2627451 ],\n",
       "       [0.        , 0.        , 0.74509804, 0.77254902, 0.50196078,\n",
       "        0.60392157, 0.61960784, 0.61568627, 0.62745098, 0.67843137,\n",
       "        0.71764706, 0.75686275, 0.78039216, 0.78823529, 0.76078431,\n",
       "        0.75686275, 0.74901961, 0.72941176, 0.69411765, 0.66666667,\n",
       "        0.64313725, 0.63529412, 0.61176471, 0.56470588, 0.50588235,\n",
       "        0.64313725, 0.98431373, 0.28627451],\n",
       "       [0.        , 0.        , 0.84313725, 0.78823529, 0.51372549,\n",
       "        0.59215686, 0.59607843, 0.59607843, 0.62745098, 0.69019608,\n",
       "        0.72941176, 0.74901961, 0.76078431, 0.78039216, 0.78431373,\n",
       "        0.76862745, 0.76078431, 0.74509804, 0.71764706, 0.69019608,\n",
       "        0.67058824, 0.65098039, 0.63921569, 0.61568627, 0.54117647,\n",
       "        0.61568627, 0.98039216, 0.29411765],\n",
       "       [0.        , 0.        , 0.72941176, 0.81176471, 0.56862745,\n",
       "        0.56470588, 0.58039216, 0.60392157, 0.65882353, 0.70588235,\n",
       "        0.7254902 , 0.74509804, 0.77254902, 0.79215686, 0.78039216,\n",
       "        0.76078431, 0.76078431, 0.74509804, 0.72941176, 0.7254902 ,\n",
       "        0.70196078, 0.69803922, 0.67843137, 0.65490196, 0.65882353,\n",
       "        0.63529412, 0.89411765, 0.30980392],\n",
       "       [0.        , 0.        , 0.58431373, 0.76862745, 0.57254902,\n",
       "        0.66666667, 0.70588235, 0.76862745, 0.81960784, 0.84705882,\n",
       "        0.85098039, 0.85882353, 0.86666667, 0.87058824, 0.85882353,\n",
       "        0.85490196, 0.85490196, 0.84313725, 0.85098039, 0.83921569,\n",
       "        0.81176471, 0.80392157, 0.79215686, 0.74117647, 0.7372549 ,\n",
       "        0.70980392, 0.88235294, 0.31372549],\n",
       "       [0.        , 0.        , 0.36862745, 0.89803922, 0.80392157,\n",
       "        0.90980392, 0.91372549, 0.91764706, 0.91372549, 0.91764706,\n",
       "        0.91764706, 0.91764706, 0.91764706, 0.92156863, 0.92156863,\n",
       "        0.92156863, 0.92941176, 0.9254902 , 0.9254902 , 0.9254902 ,\n",
       "        0.9254902 , 0.9254902 , 0.9254902 , 0.9254902 , 0.8745098 ,\n",
       "        0.8745098 , 1.        , 0.09411765],\n",
       "       [0.        , 0.        , 0.        , 0.54901961, 0.79607843,\n",
       "        0.76470588, 0.78039216, 0.77254902, 0.78039216, 0.78823529,\n",
       "        0.78431373, 0.77254902, 0.76862745, 0.76470588, 0.74509804,\n",
       "        0.72941176, 0.71372549, 0.69411765, 0.67058824, 0.68627451,\n",
       "        0.70196078, 0.71372549, 0.71372549, 0.76078431, 0.76470588,\n",
       "        0.67058824, 0.24705882, 0.        ]])"
      ]
     },
     "execution_count": 112,
     "metadata": {},
     "output_type": "execute_result"
    }
   ],
   "source": [
    "X_train[1]"
   ]
  },
  {
   "cell_type": "code",
   "execution_count": 123,
   "id": "89b271cd-0843-4fa7-a6d6-913cf316a665",
   "metadata": {},
   "outputs": [
    {
     "data": {
      "text/plain": [
       "array([0, 1, 2, 3, 4, 5, 6, 7, 8, 9], dtype=uint8)"
      ]
     },
     "execution_count": 123,
     "metadata": {},
     "output_type": "execute_result"
    }
   ],
   "source": [
    "np.unique(y_train)"
   ]
  },
  {
   "cell_type": "code",
   "execution_count": 106,
   "id": "cfc10f04-499f-4515-a8f2-8fde4a336ccb",
   "metadata": {},
   "outputs": [
    {
     "data": {
      "image/png": "[encoded data removed]",
      "text/plain": [
       "<Figure size 640x480 with 9 Axes>"
      ]
     },
     "metadata": {},
     "output_type": "display_data"
    }
   ],
   "source": [
    "nrows = 3\n",
    "ncols = 3\n",
    "   \n",
    "for i in range(1,10):\n",
    "    plt.subplot(nrows, ncols, i)\n",
    "    dataplot = X_train[i-1]\n",
    "    plt.imshow(dataplot, cmap = 'gray')\n",
    "    plt.yticks([])\n",
    "    plt.xticks([])"
   ]
  },
  {
   "cell_type": "markdown",
   "id": "21ac1579-3b27-45d6-8e7c-ea95f61084b1",
   "metadata": {},
   "source": [
    "<font size=\"3\">**Defining an ANN model**</font>\n",
    "\n",
    "In this section, an ANN is defined with:\n",
    "1) one input layer accepting training images of 28 by 28 pixels which are presented in 2D arrays,\n",
    "2) three hiddern layes with 200, 100, and 50 neurons, respectively; and 'ReLu' activation function\n",
    "3) one output layer with 10 neurons representing 10 classes available in output data\n",
    "\n",
    "Note: since this is a multi-class classification problem, I chose one neuron per class with 'softmax' activation fot he output layer."
   ]
  },
  {
   "cell_type": "code",
   "execution_count": 171,
   "id": "2ef50402-44fd-47f5-b968-6ceef3e0371a",
   "metadata": {},
   "outputs": [],
   "source": [
    "model = keras.models.Sequential([\n",
    "    keras.layers.Flatten(input_shape = [28, 28]),\n",
    "    keras.layers.Dense(200, activation = 'relu'),\n",
    "    keras.layers.Dense(100, activation = 'relu'),\n",
    "    keras.layers.Dense(50, activation = 'relu'),\n",
    "    keras.layers.Dense(10, activation = 'softmax'),\n",
    "])"
   ]
  },
  {
   "cell_type": "code",
   "execution_count": 173,
   "id": "c6ab0cf4-b899-4d06-8bc2-9788b3d889ac",
   "metadata": {},
   "outputs": [
    {
     "data": {
      "text/html": [
       "<pre style=\"white-space:pre;overflow-x:auto;line-height:normal;font-family:Menlo,'DejaVu Sans Mono',consolas,'Courier New',monospace\"><span style=\"font-weight: bold\">Model: \"sequential_9\"</span>\n",
       "</pre>\n"
      ],
      "text/plain": [
       "\u001b[1mModel: \"sequential_9\"\u001b[0m\n"
      ]
     },
     "metadata": {},
     "output_type": "display_data"
    },
    {
     "data": {
      "text/html": [
       "<pre style=\"white-space:pre;overflow-x:auto;line-height:normal;font-family:Menlo,'DejaVu Sans Mono',consolas,'Courier New',monospace\">┏━━━━━━━━━━━━━━━━━━━━━━━━━━━━━━━━━━━━━━┳━━━━━━━━━━━━━━━━━━━━━━━━━━━━━┳━━━━━━━━━━━━━━━━━┓\n",
       "┃<span style=\"font-weight: bold\"> Layer (type)                         </span>┃<span style=\"font-weight: bold\"> Output Shape                </span>┃<span style=\"font-weight: bold\">         Param # </span>┃\n",
       "┡━━━━━━━━━━━━━━━━━━━━━━━━━━━━━━━━━━━━━━╇━━━━━━━━━━━━━━━━━━━━━━━━━━━━━╇━━━━━━━━━━━━━━━━━┩\n",
       "│ flatten_4 (<span style=\"color: #0087ff; text-decoration-color: #0087ff\">Flatten</span>)                  │ (<span style=\"color: #00d7ff; text-decoration-color: #00d7ff\">None</span>, <span style=\"color: #00af00; text-decoration-color: #00af00\">784</span>)                 │               <span style=\"color: #00af00; text-decoration-color: #00af00\">0</span> │\n",
       "├──────────────────────────────────────┼─────────────────────────────┼─────────────────┤\n",
       "│ dense_36 (<span style=\"color: #0087ff; text-decoration-color: #0087ff\">Dense</span>)                     │ (<span style=\"color: #00d7ff; text-decoration-color: #00d7ff\">None</span>, <span style=\"color: #00af00; text-decoration-color: #00af00\">200</span>)                 │         <span style=\"color: #00af00; text-decoration-color: #00af00\">157,000</span> │\n",
       "├──────────────────────────────────────┼─────────────────────────────┼─────────────────┤\n",
       "│ dense_37 (<span style=\"color: #0087ff; text-decoration-color: #0087ff\">Dense</span>)                     │ (<span style=\"color: #00d7ff; text-decoration-color: #00d7ff\">None</span>, <span style=\"color: #00af00; text-decoration-color: #00af00\">100</span>)                 │          <span style=\"color: #00af00; text-decoration-color: #00af00\">20,100</span> │\n",
       "├──────────────────────────────────────┼─────────────────────────────┼─────────────────┤\n",
       "│ dense_38 (<span style=\"color: #0087ff; text-decoration-color: #0087ff\">Dense</span>)                     │ (<span style=\"color: #00d7ff; text-decoration-color: #00d7ff\">None</span>, <span style=\"color: #00af00; text-decoration-color: #00af00\">50</span>)                  │           <span style=\"color: #00af00; text-decoration-color: #00af00\">5,050</span> │\n",
       "├──────────────────────────────────────┼─────────────────────────────┼─────────────────┤\n",
       "│ dense_39 (<span style=\"color: #0087ff; text-decoration-color: #0087ff\">Dense</span>)                     │ (<span style=\"color: #00d7ff; text-decoration-color: #00d7ff\">None</span>, <span style=\"color: #00af00; text-decoration-color: #00af00\">10</span>)                  │             <span style=\"color: #00af00; text-decoration-color: #00af00\">510</span> │\n",
       "└──────────────────────────────────────┴─────────────────────────────┴─────────────────┘\n",
       "</pre>\n"
      ],
      "text/plain": [
       "┏━━━━━━━━━━━━━━━━━━━━━━━━━━━━━━━━━━━━━━┳━━━━━━━━━━━━━━━━━━━━━━━━━━━━━┳━━━━━━━━━━━━━━━━━┓\n",
       "┃\u001b[1m \u001b[0m\u001b[1mLayer (type)                        \u001b[0m\u001b[1m \u001b[0m┃\u001b[1m \u001b[0m\u001b[1mOutput Shape               \u001b[0m\u001b[1m \u001b[0m┃\u001b[1m \u001b[0m\u001b[1m        Param #\u001b[0m\u001b[1m \u001b[0m┃\n",
       "┡━━━━━━━━━━━━━━━━━━━━━━━━━━━━━━━━━━━━━━╇━━━━━━━━━━━━━━━━━━━━━━━━━━━━━╇━━━━━━━━━━━━━━━━━┩\n",
       "│ flatten_4 (\u001b[38;5;33mFlatten\u001b[0m)                  │ (\u001b[38;5;45mNone\u001b[0m, \u001b[38;5;34m784\u001b[0m)                 │               \u001b[38;5;34m0\u001b[0m │\n",
       "├──────────────────────────────────────┼─────────────────────────────┼─────────────────┤\n",
       "│ dense_36 (\u001b[38;5;33mDense\u001b[0m)                     │ (\u001b[38;5;45mNone\u001b[0m, \u001b[38;5;34m200\u001b[0m)                 │         \u001b[38;5;34m157,000\u001b[0m │\n",
       "├──────────────────────────────────────┼─────────────────────────────┼─────────────────┤\n",
       "│ dense_37 (\u001b[38;5;33mDense\u001b[0m)                     │ (\u001b[38;5;45mNone\u001b[0m, \u001b[38;5;34m100\u001b[0m)                 │          \u001b[38;5;34m20,100\u001b[0m │\n",
       "├──────────────────────────────────────┼─────────────────────────────┼─────────────────┤\n",
       "│ dense_38 (\u001b[38;5;33mDense\u001b[0m)                     │ (\u001b[38;5;45mNone\u001b[0m, \u001b[38;5;34m50\u001b[0m)                  │           \u001b[38;5;34m5,050\u001b[0m │\n",
       "├──────────────────────────────────────┼─────────────────────────────┼─────────────────┤\n",
       "│ dense_39 (\u001b[38;5;33mDense\u001b[0m)                     │ (\u001b[38;5;45mNone\u001b[0m, \u001b[38;5;34m10\u001b[0m)                  │             \u001b[38;5;34m510\u001b[0m │\n",
       "└──────────────────────────────────────┴─────────────────────────────┴─────────────────┘\n"
      ]
     },
     "metadata": {},
     "output_type": "display_data"
    },
    {
     "data": {
      "text/html": [
       "<pre style=\"white-space:pre;overflow-x:auto;line-height:normal;font-family:Menlo,'DejaVu Sans Mono',consolas,'Courier New',monospace\"><span style=\"font-weight: bold\"> Total params: </span><span style=\"color: #00af00; text-decoration-color: #00af00\">182,660</span> (713.52 KB)\n",
       "</pre>\n"
      ],
      "text/plain": [
       "\u001b[1m Total params: \u001b[0m\u001b[38;5;34m182,660\u001b[0m (713.52 KB)\n"
      ]
     },
     "metadata": {},
     "output_type": "display_data"
    },
    {
     "data": {
      "text/html": [
       "<pre style=\"white-space:pre;overflow-x:auto;line-height:normal;font-family:Menlo,'DejaVu Sans Mono',consolas,'Courier New',monospace\"><span style=\"font-weight: bold\"> Trainable params: </span><span style=\"color: #00af00; text-decoration-color: #00af00\">182,660</span> (713.52 KB)\n",
       "</pre>\n"
      ],
      "text/plain": [
       "\u001b[1m Trainable params: \u001b[0m\u001b[38;5;34m182,660\u001b[0m (713.52 KB)\n"
      ]
     },
     "metadata": {},
     "output_type": "display_data"
    },
    {
     "data": {
      "text/html": [
       "<pre style=\"white-space:pre;overflow-x:auto;line-height:normal;font-family:Menlo,'DejaVu Sans Mono',consolas,'Courier New',monospace\"><span style=\"font-weight: bold\"> Non-trainable params: </span><span style=\"color: #00af00; text-decoration-color: #00af00\">0</span> (0.00 B)\n",
       "</pre>\n"
      ],
      "text/plain": [
       "\u001b[1m Non-trainable params: \u001b[0m\u001b[38;5;34m0\u001b[0m (0.00 B)\n"
      ]
     },
     "metadata": {},
     "output_type": "display_data"
    }
   ],
   "source": [
    "model.summary()"
   ]
  },
  {
   "cell_type": "code",
   "execution_count": 179,
   "id": "b6e825c5-7657-4a6b-a27d-efa5f3a27611",
   "metadata": {},
   "outputs": [],
   "source": [
    "weights, biases = model.layers[1].get_weights()"
   ]
  },
  {
   "cell_type": "code",
   "execution_count": 181,
   "id": "972e131c-54e2-43e9-949e-3b7a1a291d76",
   "metadata": {},
   "outputs": [
    {
     "data": {
      "text/plain": [
       "array([[-0.04105721,  0.07343328, -0.07492124, ...,  0.00849136,\n",
       "        -0.06548276, -0.04427574],\n",
       "       [ 0.02849041,  0.00829037, -0.05187657, ...,  0.0074648 ,\n",
       "        -0.05688751, -0.04854012],\n",
       "       [ 0.02435287,  0.07683855,  0.00143129, ...,  0.02515671,\n",
       "        -0.06443868, -0.02837446],\n",
       "       ...,\n",
       "       [ 0.00128112, -0.00744041,  0.02895698, ...,  0.06235211,\n",
       "         0.07502519,  0.05981581],\n",
       "       [ 0.07584399, -0.05202693,  0.06271762, ..., -0.05753195,\n",
       "        -0.03378184,  0.06293714],\n",
       "       [-0.00455356,  0.06801949, -0.02685203, ...,  0.07422867,\n",
       "        -0.03811106, -0.06024199]], dtype=float32)"
      ]
     },
     "execution_count": 181,
     "metadata": {},
     "output_type": "execute_result"
    }
   ],
   "source": [
    "weights"
   ]
  },
  {
   "cell_type": "code",
   "execution_count": 183,
   "id": "7adfc302-c326-4e5d-88a1-2ed700c166e6",
   "metadata": {},
   "outputs": [
    {
     "data": {
      "text/plain": [
       "array([0., 0., 0., 0., 0., 0., 0., 0., 0., 0., 0., 0., 0., 0., 0., 0., 0.,\n",
       "       0., 0., 0., 0., 0., 0., 0., 0., 0., 0., 0., 0., 0., 0., 0., 0., 0.,\n",
       "       0., 0., 0., 0., 0., 0., 0., 0., 0., 0., 0., 0., 0., 0., 0., 0., 0.,\n",
       "       0., 0., 0., 0., 0., 0., 0., 0., 0., 0., 0., 0., 0., 0., 0., 0., 0.,\n",
       "       0., 0., 0., 0., 0., 0., 0., 0., 0., 0., 0., 0., 0., 0., 0., 0., 0.,\n",
       "       0., 0., 0., 0., 0., 0., 0., 0., 0., 0., 0., 0., 0., 0., 0., 0., 0.,\n",
       "       0., 0., 0., 0., 0., 0., 0., 0., 0., 0., 0., 0., 0., 0., 0., 0., 0.,\n",
       "       0., 0., 0., 0., 0., 0., 0., 0., 0., 0., 0., 0., 0., 0., 0., 0., 0.,\n",
       "       0., 0., 0., 0., 0., 0., 0., 0., 0., 0., 0., 0., 0., 0., 0., 0., 0.,\n",
       "       0., 0., 0., 0., 0., 0., 0., 0., 0., 0., 0., 0., 0., 0., 0., 0., 0.,\n",
       "       0., 0., 0., 0., 0., 0., 0., 0., 0., 0., 0., 0., 0., 0., 0., 0., 0.,\n",
       "       0., 0., 0., 0., 0., 0., 0., 0., 0., 0., 0., 0., 0.], dtype=float32)"
      ]
     },
     "execution_count": 183,
     "metadata": {},
     "output_type": "execute_result"
    }
   ],
   "source": [
    "biases"
   ]
  },
  {
   "cell_type": "markdown",
   "id": "7c9ac760-bfea-4d7f-8c53-9ec0393eedf3",
   "metadata": {},
   "source": [
    "Initial weights are random which is correct and the initial biases are all set to zero by default. Next, a few parameters are defined and the model gets compiled."
   ]
  },
  {
   "cell_type": "code",
   "execution_count": 189,
   "id": "fa8eb4a5-fb8f-48e5-83f1-b041982904e7",
   "metadata": {},
   "outputs": [],
   "source": [
    "model.compile(loss = 'sparse_categorical_crossentropy', optimizer = 'sgd', metrics = ['accuracy'])"
   ]
  },
  {
   "cell_type": "markdown",
   "id": "795c762e-677a-4c47-9f58-abf45106bbc4",
   "metadata": {},
   "source": [
    "<font size=\"3\">**Train and test the model**</font>\n",
    "\n",
    "In this section, the model is trained and then evaluated by the testing data."
   ]
  },
  {
   "cell_type": "code",
   "execution_count": null,
   "id": "8b93e3f2-dcb2-417a-965c-234c6b966db7",
   "metadata": {},
   "outputs": [],
   "source": [
    "train_model = model.fit(X_train, y_train, epochs = 50, validation_data = (X_valid, y_valid))"
   ]
  },
  {
   "cell_type": "code",
   "execution_count": 200,
   "id": "a8337c67-2261-4ed2-b866-b8827fad1a0e",
   "metadata": {},
   "outputs": [
    {
     "data": {
      "image/png": "[encoded data removed]",
      "text/plain": [
       "<Figure size 640x480 with 1 Axes>"
      ]
     },
     "metadata": {},
     "output_type": "display_data"
    }
   ],
   "source": [
    "pd.DataFrame(train_model.history).plot()\n",
    "plt.grid(True)\n",
    "plt.gca().set_ylim(0,1)\n",
    "plt.show()"
   ]
  },
  {
   "cell_type": "markdown",
   "id": "fa748d2a-2910-4de5-86a4-944c821bf73b",
   "metadata": {},
   "source": [
    "The performance measure (accuracy) seems much better on training set than validation set. It reached 94.7% on training set vs 88.7% on validation set. In addition, the loss is much smaller for trainign set than the validation set. In summary, it seems that the model has a bit overfitted on the training set. Next, we will reduce the epocs as well as the hidden layers, and display the results."
   ]
  },
  {
   "cell_type": "code",
   "execution_count": 264,
   "id": "f65a4ece-fd83-43eb-bc05-92d938f68c94",
   "metadata": {},
   "outputs": [
    {
     "name": "stdout",
     "output_type": "stream",
     "text": [
      "Accuracy on training set is 0.9143999814987183\n",
      "Loss on training set is 0.23629289865493774\n",
      "Accuracy on validation set is 0.8744000196456909\n",
      "Loss on validation set is 0.35638362169265747\n"
     ]
    }
   ],
   "source": [
    "model = keras.models.Sequential([\n",
    "    keras.layers.Flatten(input_shape = [28, 28]),\n",
    "    keras.layers.Dense(200, activation = 'relu'),\n",
    "    keras.layers.Dense(100, activation = 'relu'),\n",
    "    keras.layers.Dense(10, activation = 'softmax'),\n",
    "])\n",
    "model.compile(loss = 'sparse_categorical_crossentropy', optimizer = 'sgd', metrics = ['accuracy'])\n",
    "train_model = model.fit(X_train, y_train, epochs = 30, validation_data = (X_valid, y_valid), verbose = 0)\n",
    "\n",
    "print(f'Accuracy on training set is {train_model.history['accuracy'][-1]}')\n",
    "print(f'Loss on training set is {train_model.history['loss'][-1]}')\n",
    "print(f'Accuracy on validation set is {train_model.history['val_accuracy'][-1]}')\n",
    "print(f'Loss on validation set is {train_model.history['val_loss'][-1]}')"
   ]
  },
  {
   "cell_type": "code",
   "execution_count": 266,
   "id": "82abb96c-7b9f-4f14-9c10-1c413c23ec62",
   "metadata": {},
   "outputs": [
    {
     "data": {
      "image/png": "[encoded data removed]",
      "text/plain": [
       "<Figure size 640x480 with 1 Axes>"
      ]
     },
     "metadata": {},
     "output_type": "display_data"
    }
   ],
   "source": [
    "pd.DataFrame(train_model.history).plot()\n",
    "plt.grid(True)\n",
    "plt.gca().set_ylim(0,1)\n",
    "plt.show()"
   ]
  },
  {
   "cell_type": "markdown",
   "id": "d40d31bd-e270-4c57-91cc-3f0b15d59a17",
   "metadata": {},
   "source": [
    "This time the model is less overfitted than last time. Let's evaluate the model on testing set."
   ]
  },
  {
   "cell_type": "code",
   "execution_count": 272,
   "id": "62788bef-a6e4-47c0-9676-9ff3d895a479",
   "metadata": {},
   "outputs": [
    {
     "name": "stdout",
     "output_type": "stream",
     "text": [
      "\u001b[1m313/313\u001b[0m \u001b[32m━━━━━━━━━━━━━━━━━━━━\u001b[0m\u001b[37m\u001b[0m \u001b[1m1s\u001b[0m 3ms/step - accuracy: 0.8688 - loss: 0.3662\n"
     ]
    },
    {
     "data": {
      "text/plain": [
       "[0.3716413080692291, 0.866100013256073]"
      ]
     },
     "execution_count": 272,
     "metadata": {},
     "output_type": "execute_result"
    }
   ],
   "source": [
    "model.evaluate(X_test, y_test)"
   ]
  },
  {
   "cell_type": "markdown",
   "id": "0bc595a9-34c0-4547-9958-56c5f5d2f002",
   "metadata": {},
   "source": [
    "Accuracy on test set is close to those of validation set, indicating the model is not overfitted to the training set."
   ]
  },
  {
   "cell_type": "code",
   "execution_count": null,
   "id": "0dc102ca-a2f8-40ba-b2cb-0f98ddc385e2",
   "metadata": {},
   "outputs": [],
   "source": []
  }
 ],
 "metadata": {
  "kernelspec": {
   "display_name": "Python 3 (ipykernel)",
   "language": "python",
   "name": "python3"
  },
  "language_info": {
   "codemirror_mode": {
    "name": "ipython",
    "version": 3
   },
   "file_extension": ".py",
   "mimetype": "text/x-python",
   "name": "python",
   "nbconvert_exporter": "python",
   "pygments_lexer": "ipython3",
   "version": "3.12.4"
  }
 },
 "nbformat": 4,
 "nbformat_minor": 5
}
