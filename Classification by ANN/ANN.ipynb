{
 "cells": [
  {
   "cell_type": "markdown",
   "id": "65b2b9f9-9e0a-4ac3-9049-edde0034a496",
   "metadata": {},
   "source": [
    "<font size=\"6\">**Project definition**\n",
    "\n",
    "<font size=\"4\">This projects aims at showing how an ANN can be trained and fitted to a classification problem. </font>"
   ]
  },
  {
   "cell_type": "code",
   "execution_count": null,
   "id": "7b3f2dfa-58e7-42d0-959a-83119f53ed4d",
   "metadata": {},
   "outputs": [],
   "source": [
    "#%pip install tensorflow"
   ]
  },
  {
   "cell_type": "code",
   "execution_count": 747,
   "id": "c822b0bd-7052-484f-8ffa-18f10f4066f2",
   "metadata": {},
   "outputs": [],
   "source": [
    "import numpy as np\n",
    "from tensorflow import keras\n",
    "from sklearn.model_selection import train_test_split\n",
    "import matplotlib.pyplot as plt\n",
    "import pandas as pd"
   ]
  },
  {
   "cell_type": "code",
   "execution_count": 749,
   "id": "c0a0daff-7cc2-4fb2-afb0-e16956cec8b1",
   "metadata": {},
   "outputs": [
    {
     "data": {
      "text/plain": [
       "'3.5.0'"
      ]
     },
     "execution_count": 749,
     "metadata": {},
     "output_type": "execute_result"
    }
   ],
   "source": [
    "keras.__version__"
   ]
  },
  {
   "cell_type": "markdown",
   "id": "2037c31d-a727-40be-9ac5-2af6dd3a2329",
   "metadata": {},
   "source": [
    "<font size=\"5\">**Load dataset**\n",
    "\n",
    "<font size=\"4\">I load the Fashion MNIST dataset available in Keras.</font>"
   ]
  },
  {
   "cell_type": "code",
   "execution_count": 752,
   "id": "e30420dc-2770-40fb-9962-2a6101d479aa",
   "metadata": {},
   "outputs": [],
   "source": [
    "fashion_mnist = keras.datasets.fashion_mnist\n",
    "(X_train_full, y_train_full), (X_test, y_test) = fashion_mnist.load_data()"
   ]
  },
  {
   "cell_type": "code",
   "execution_count": 754,
   "id": "698daed6-bd4b-4a56-aa18-24b24e78e6a0",
   "metadata": {},
   "outputs": [
    {
     "data": {
      "text/plain": [
       "((60000, 28, 28), (60000,), (10000, 28, 28), (10000,))"
      ]
     },
     "execution_count": 754,
     "metadata": {},
     "output_type": "execute_result"
    }
   ],
   "source": [
    "X_train_full.shape , y_train_full.shape, X_test.shape, y_test.shape"
   ]
  },
  {
   "cell_type": "markdown",
   "id": "42192902-2107-41ad-9fdf-74ccad6dbfcc",
   "metadata": {},
   "source": [
    "<font size=\"5\">**Split dataset and define training, testing, and validation sets**</font>\n",
    "\n",
    "<font size=\"4\">In this section, I split the original training set into training and validation sets. I use stratified sampling for this purpose to ensure each class is sufficiently represented in each dataset.</font>"
   ]
  },
  {
   "cell_type": "code",
   "execution_count": 760,
   "id": "1330156e-41d0-4af0-a435-f04dfb6b04d2",
   "metadata": {},
   "outputs": [],
   "source": [
    "X_train, X_valid, y_train, y_valid = train_test_split(X_train_full, y_train_full , train_size = 55000, test_size = 5000, random_state = 42, stratify=y_train_full)"
   ]
  },
  {
   "cell_type": "code",
   "execution_count": 762,
   "id": "a6e0bdb2-69b6-40a4-8f0e-4e4343567c30",
   "metadata": {},
   "outputs": [],
   "source": [
    "X_train = X_train/255\n",
    "X_test = X_test/255\n",
    "X_valid = X_valid/255"
   ]
  },
  {
   "cell_type": "markdown",
   "id": "ee6f5289-d3c7-4114-abea-486e7d3b4157",
   "metadata": {},
   "source": [
    "<font size=\"5\">**Visualizing the data**</font>"
   ]
  },
  {
   "cell_type": "code",
   "execution_count": 765,
   "id": "176e4dde-34b5-4921-9562-d94af9779e95",
   "metadata": {},
   "outputs": [
    {
     "data": {
      "text/plain": [
       "array([[0.        , 0.        , 0.        , 0.        , 0.        ,\n",
       "        0.        , 0.        , 0.        , 0.        , 0.41568627,\n",
       "        0.76078431, 0.67843137, 0.50196078, 0.45882353, 0.43529412,\n",
       "        0.47058824, 0.5254902 , 0.60784314, 0.67843137, 0.45882353,\n",
       "        0.        , 0.        , 0.        , 0.        , 0.        ,\n",
       "        0.        , 0.        , 0.        ],\n",
       "       [0.        , 0.        , 0.        , 0.        , 0.        ,\n",
       "        0.00784314, 0.        , 0.        , 0.90196078, 0.99215686,\n",
       "        0.93333333, 0.99215686, 1.        , 1.        , 1.        ,\n",
       "        1.        , 1.        , 1.        , 0.9372549 , 0.99607843,\n",
       "        0.86666667, 0.        , 0.        , 0.00392157, 0.        ,\n",
       "        0.        , 0.        , 0.        ],\n",
       "       [0.        , 0.        , 0.        , 0.        , 0.        ,\n",
       "        0.01176471, 0.        , 0.25490196, 0.99607843, 0.89019608,\n",
       "        0.90980392, 0.90196078, 0.87843137, 0.89019608, 0.89411765,\n",
       "        0.88627451, 0.87843137, 0.88627451, 0.9254902 , 0.91764706,\n",
       "        0.94901961, 0.05490196, 0.        , 0.01176471, 0.        ,\n",
       "        0.        , 0.        , 0.        ],\n",
       "       [0.        , 0.        , 0.        , 0.        , 0.        ,\n",
       "        0.01176471, 0.        , 0.4745098 , 0.98823529, 0.90980392,\n",
       "        0.90980392, 0.91372549, 0.92156863, 0.92941176, 0.92156863,\n",
       "        0.92156863, 0.9254902 , 0.92156863, 0.92156863, 0.92156863,\n",
       "        0.97647059, 0.27058824, 0.        , 0.00392157, 0.        ,\n",
       "        0.        , 0.        , 0.        ],\n",
       "       [0.        , 0.        , 0.        , 0.        , 0.        ,\n",
       "        0.        , 0.        , 0.66666667, 0.99215686, 0.90980392,\n",
       "        0.89803922, 0.90980392, 0.9254902 , 0.9254902 , 0.9254902 ,\n",
       "        0.9254902 , 0.9254902 , 0.9254902 , 0.91372549, 0.91372549,\n",
       "        0.98823529, 0.52156863, 0.        , 0.00392157, 0.        ,\n",
       "        0.        , 0.        , 0.        ],\n",
       "       [0.        , 0.        , 0.        , 0.        , 0.        ,\n",
       "        0.        , 0.        , 0.87843137, 0.96470588, 0.90588235,\n",
       "        0.89411765, 0.90196078, 0.93333333, 0.9254902 , 0.92941176,\n",
       "        0.92941176, 0.93333333, 0.9254902 , 0.90196078, 0.91764706,\n",
       "        0.96862745, 0.85098039, 0.        , 0.        , 0.        ,\n",
       "        0.        , 0.        , 0.        ],\n",
       "       [0.        , 0.        , 0.        , 0.        , 0.        ,\n",
       "        0.        , 0.        , 0.8745098 , 0.94117647, 0.90588235,\n",
       "        0.88627451, 0.90588235, 0.93333333, 0.93333333, 0.93333333,\n",
       "        0.92941176, 0.9372549 , 0.91372549, 0.91372549, 0.9254902 ,\n",
       "        0.94117647, 0.8745098 , 0.        , 0.        , 0.        ,\n",
       "        0.        , 0.        , 0.        ],\n",
       "       [0.        , 0.        , 0.        , 0.        , 0.        ,\n",
       "        0.        , 0.10980392, 0.94117647, 0.9254902 , 0.9254902 ,\n",
       "        0.8627451 , 0.90588235, 0.92941176, 0.92941176, 0.92941176,\n",
       "        0.92941176, 0.93333333, 0.91764706, 0.90588235, 0.9372549 ,\n",
       "        0.91764706, 0.96078431, 0.16078431, 0.        , 0.        ,\n",
       "        0.        , 0.        , 0.        ],\n",
       "       [0.        , 0.        , 0.        , 0.        , 0.        ,\n",
       "        0.        , 0.26666667, 0.98039216, 0.92156863, 0.92941176,\n",
       "        0.86666667, 0.90196078, 0.92941176, 0.9254902 , 0.9254902 ,\n",
       "        0.9254902 , 0.92941176, 0.91372549, 0.89803922, 0.9372549 ,\n",
       "        0.91372549, 0.99215686, 0.47058824, 0.        , 0.        ,\n",
       "        0.        , 0.        , 0.        ],\n",
       "       [0.        , 0.        , 0.        , 0.        , 0.        ,\n",
       "        0.        , 0.44705882, 0.96078431, 0.89803922, 0.94117647,\n",
       "        0.8745098 , 0.89411765, 0.92941176, 0.91764706, 0.92156863,\n",
       "        0.92156863, 0.9254902 , 0.91764706, 0.88627451, 0.95686275,\n",
       "        0.9254902 , 0.95294118, 0.67843137, 0.        , 0.        ,\n",
       "        0.        , 0.        , 0.        ],\n",
       "       [0.        , 0.        , 0.        , 0.        , 0.        ,\n",
       "        0.        , 0.71372549, 1.        , 0.98431373, 0.83137255,\n",
       "        0.90196078, 0.88627451, 0.92941176, 0.91372549, 0.92156863,\n",
       "        0.92156863, 0.9254902 , 0.90980392, 0.95294118, 0.81568627,\n",
       "        0.95686275, 0.99607843, 0.91764706, 0.14509804, 0.        ,\n",
       "        0.        , 0.        , 0.        ],\n",
       "       [0.        , 0.        , 0.        , 0.        , 0.        ,\n",
       "        0.64313725, 0.74509804, 0.25098039, 0.3372549 , 0.41568627,\n",
       "        1.        , 0.85882353, 0.9254902 , 0.90980392, 0.92156863,\n",
       "        0.92156863, 0.92156863, 0.88627451, 1.        , 0.5254902 ,\n",
       "        0.14117647, 0.30980392, 0.58431373, 0.67058824, 0.        ,\n",
       "        0.        , 0.        , 0.        ],\n",
       "       [0.        , 0.        , 0.        , 0.        , 0.        ,\n",
       "        0.        , 0.71372549, 0.        , 0.        , 0.40784314,\n",
       "        1.        , 0.83921569, 0.9254902 , 0.90588235, 0.92156863,\n",
       "        0.91764706, 0.92156863, 0.88627451, 0.94901961, 0.68627451,\n",
       "        0.        , 0.        , 0.        , 0.02745098, 0.        ,\n",
       "        0.        , 0.        , 0.        ],\n",
       "       [0.        , 0.        , 0.        , 0.        , 0.        ,\n",
       "        0.        , 0.16078431, 0.        , 0.        , 0.48627451,\n",
       "        0.9372549 , 0.87058824, 0.92156863, 0.90588235, 0.92156863,\n",
       "        0.92156863, 0.92156863, 0.90196078, 0.94117647, 0.76862745,\n",
       "        0.        , 0.        , 0.        , 0.        , 0.        ,\n",
       "        0.        , 0.        , 0.        ],\n",
       "       [0.        , 0.        , 0.        , 0.        , 0.        ,\n",
       "        0.        , 0.        , 0.        , 0.        , 0.56470588,\n",
       "        0.94117647, 0.87058824, 0.92156863, 0.90980392, 0.92156863,\n",
       "        0.91764706, 0.92156863, 0.90196078, 0.9372549 , 0.82352941,\n",
       "        0.        , 0.        , 0.00784314, 0.01176471, 0.        ,\n",
       "        0.        , 0.        , 0.        ],\n",
       "       [0.        , 0.        , 0.        , 0.        , 0.        ,\n",
       "        0.        , 0.00784314, 0.        , 0.        , 0.65098039,\n",
       "        0.94117647, 0.8745098 , 0.9254902 , 0.90196078, 0.92156863,\n",
       "        0.9254902 , 0.92156863, 0.90588235, 0.9254902 , 0.89803922,\n",
       "        0.        , 0.        , 0.00392157, 0.        , 0.        ,\n",
       "        0.        , 0.        , 0.        ],\n",
       "       [0.        , 0.        , 0.        , 0.        , 0.        ,\n",
       "        0.        , 0.        , 0.        , 0.        , 0.70588235,\n",
       "        0.93333333, 0.87843137, 0.92941176, 0.89803922, 0.91764706,\n",
       "        0.9254902 , 0.91764706, 0.90980392, 0.92156863, 0.9372549 ,\n",
       "        0.        , 0.        , 0.00392157, 0.        , 0.        ,\n",
       "        0.        , 0.        , 0.        ],\n",
       "       [0.        , 0.        , 0.        , 0.        , 0.        ,\n",
       "        0.        , 0.        , 0.        , 0.        , 0.77647059,\n",
       "        0.9254902 , 0.87843137, 0.92941176, 0.89803922, 0.92156863,\n",
       "        0.9254902 , 0.91764706, 0.90980392, 0.92156863, 0.82352941,\n",
       "        0.        , 0.        , 0.00784314, 0.        , 0.        ,\n",
       "        0.        , 0.        , 0.        ],\n",
       "       [0.        , 0.        , 0.        , 0.        , 0.        ,\n",
       "        0.        , 0.        , 0.        , 0.        , 0.85490196,\n",
       "        0.92156863, 0.88235294, 0.9254902 , 0.89803922, 0.91764706,\n",
       "        0.92156863, 0.91764706, 0.90980392, 0.92156863, 0.84705882,\n",
       "        0.        , 0.        , 0.00784314, 0.        , 0.        ,\n",
       "        0.        , 0.        , 0.        ],\n",
       "       [0.        , 0.        , 0.        , 0.        , 0.        ,\n",
       "        0.        , 0.        , 0.        , 0.        , 0.92156863,\n",
       "        0.91764706, 0.88235294, 0.92156863, 0.89803922, 0.91372549,\n",
       "        0.92156863, 0.92156863, 0.91372549, 0.92156863, 0.85882353,\n",
       "        0.        , 0.        , 0.01176471, 0.        , 0.        ,\n",
       "        0.        , 0.        , 0.        ],\n",
       "       [0.        , 0.        , 0.        , 0.        , 0.        ,\n",
       "        0.        , 0.00392157, 0.        , 0.        , 0.79607843,\n",
       "        0.90980392, 0.88627451, 0.91764706, 0.89411765, 0.91372549,\n",
       "        0.92156863, 0.92156863, 0.91372549, 0.91372549, 0.88627451,\n",
       "        0.        , 0.        , 0.01568627, 0.        , 0.        ,\n",
       "        0.        , 0.        , 0.        ],\n",
       "       [0.        , 0.        , 0.        , 0.        , 0.        ,\n",
       "        0.        , 0.00392157, 0.        , 0.        , 0.81568627,\n",
       "        0.90980392, 0.88627451, 0.92156863, 0.89803922, 0.91372549,\n",
       "        0.92156863, 0.92156863, 0.91764706, 0.91372549, 0.90588235,\n",
       "        0.05098039, 0.        , 0.01960784, 0.        , 0.        ,\n",
       "        0.        , 0.        , 0.        ],\n",
       "       [0.        , 0.        , 0.        , 0.        , 0.        ,\n",
       "        0.        , 0.        , 0.        , 0.        , 0.81960784,\n",
       "        0.91764706, 0.88235294, 0.9372549 , 0.90588235, 0.91372549,\n",
       "        0.92941176, 0.93333333, 0.9254902 , 0.90980392, 0.92941176,\n",
       "        0.11372549, 0.        , 0.02352941, 0.        , 0.        ,\n",
       "        0.        , 0.        , 0.        ],\n",
       "       [0.        , 0.        , 0.        , 0.        , 0.        ,\n",
       "        0.        , 0.        , 0.        , 0.        , 0.82352941,\n",
       "        0.92156863, 0.88235294, 0.93333333, 0.90196078, 0.90196078,\n",
       "        0.9254902 , 0.92941176, 0.92941176, 0.90588235, 0.94509804,\n",
       "        0.17254902, 0.        , 0.02745098, 0.        , 0.        ,\n",
       "        0.        , 0.        , 0.        ],\n",
       "       [0.        , 0.        , 0.        , 0.        , 0.        ,\n",
       "        0.        , 0.00392157, 0.        , 0.        , 0.82352941,\n",
       "        0.9254902 , 0.88235294, 0.92941176, 0.90980392, 0.89803922,\n",
       "        0.91764706, 0.94117647, 0.9254902 , 0.89803922, 0.96078431,\n",
       "        0.22352941, 0.        , 0.03137255, 0.        , 0.        ,\n",
       "        0.        , 0.        , 0.        ],\n",
       "       [0.        , 0.        , 0.        , 0.        , 0.        ,\n",
       "        0.        , 0.00392157, 0.        , 0.        , 0.83529412,\n",
       "        0.90980392, 0.87058824, 0.91764706, 0.89803922, 0.8745098 ,\n",
       "        0.90196078, 0.90588235, 0.90196078, 0.89019608, 0.95686275,\n",
       "        0.22352941, 0.        , 0.03137255, 0.        , 0.        ,\n",
       "        0.        , 0.        , 0.        ],\n",
       "       [0.        , 0.        , 0.        , 0.        , 0.        ,\n",
       "        0.        , 0.00784314, 0.        , 0.        , 0.9254902 ,\n",
       "        0.97647059, 0.9254902 , 0.97254902, 0.99215686, 1.        ,\n",
       "        1.        , 1.        , 0.97254902, 0.93333333, 0.99607843,\n",
       "        0.28235294, 0.        , 0.03137255, 0.        , 0.        ,\n",
       "        0.        , 0.        , 0.        ],\n",
       "       [0.        , 0.        , 0.        , 0.        , 0.        ,\n",
       "        0.        , 0.00784314, 0.        , 0.        , 0.61960784,\n",
       "        0.41176471, 0.51372549, 0.81960784, 0.75686275, 0.5372549 ,\n",
       "        0.23921569, 0.18039216, 0.49803922, 0.69411765, 0.64313725,\n",
       "        0.05098039, 0.        , 0.01960784, 0.        , 0.        ,\n",
       "        0.        , 0.        , 0.        ]])"
      ]
     },
     "execution_count": 765,
     "metadata": {},
     "output_type": "execute_result"
    }
   ],
   "source": [
    "X_train[1]"
   ]
  },
  {
   "cell_type": "code",
   "execution_count": 767,
   "id": "89b271cd-0843-4fa7-a6d6-913cf316a665",
   "metadata": {},
   "outputs": [
    {
     "data": {
      "text/plain": [
       "array([0, 1, 2, 3, 4, 5, 6, 7, 8, 9], dtype=uint8)"
      ]
     },
     "execution_count": 767,
     "metadata": {},
     "output_type": "execute_result"
    }
   ],
   "source": [
    "np.unique(y_train)"
   ]
  },
  {
   "cell_type": "code",
   "execution_count": 769,
   "id": "cfc10f04-499f-4515-a8f2-8fde4a336ccb",
   "metadata": {},
   "outputs": [
    {
     "data": {
      "image/png": "[encoded data removed]",
      "text/plain": [
       "<Figure size 640x480 with 9 Axes>"
      ]
     },
     "metadata": {},
     "output_type": "display_data"
    }
   ],
   "source": [
    "nrows = 3\n",
    "ncols = 3\n",
    "   \n",
    "for i in range(1,10):\n",
    "    plt.subplot(nrows, ncols, i)\n",
    "    dataplot = X_train[i-1]\n",
    "    plt.imshow(dataplot, cmap = 'gray')\n",
    "    plt.yticks([])\n",
    "    plt.xticks([])"
   ]
  },
  {
   "cell_type": "markdown",
   "id": "21ac1579-3b27-45d6-8e7c-ea95f61084b1",
   "metadata": {},
   "source": [
    "<font size=\"5\">**Defining an ANN model**\n",
    "\n",
    "<font size=\"4\">In this section, an ANN is defined with:</font>\n",
    "\n",
    "<font size=\"4\">1) one input layer accepting training images of 28 by 28 pixels which are presented in 2D arrays,\n",
    "\n",
    "<font size=\"4\">2) three hiddern layes with 200, 100, and 50 neurons, respectively; and 'ReLu' activation function\n",
    "   \n",
    "<font size=\"4\">4) one output layer with 10 neurons representing 10 classes available in output data\n",
    "\n",
    "<font size=\"4\">Note: since this is a multi-class classification problem, I chose one neuron per class with 'softmax' activation fot he output layer.</font>"
   ]
  },
  {
   "cell_type": "code",
   "execution_count": 774,
   "id": "2ef50402-44fd-47f5-b968-6ceef3e0371a",
   "metadata": {},
   "outputs": [],
   "source": [
    "model = keras.models.Sequential([\n",
    "    keras.layers.Flatten(input_shape = [28, 28]),\n",
    "    keras.layers.Dense(200, activation = 'relu'),\n",
    "    keras.layers.Dense(100, activation = 'relu'),\n",
    "    keras.layers.Dense(50, activation = 'relu'),\n",
    "    keras.layers.Dense(10, activation = 'softmax'),\n",
    "])"
   ]
  },
  {
   "cell_type": "code",
   "execution_count": 776,
   "id": "c6ab0cf4-b899-4d06-8bc2-9788b3d889ac",
   "metadata": {},
   "outputs": [
    {
     "data": {
      "text/html": [
       "<pre style=\"white-space:pre;overflow-x:auto;line-height:normal;font-family:Menlo,'DejaVu Sans Mono',consolas,'Courier New',monospace\"><span style=\"font-weight: bold\">Model: \"sequential_18\"</span>\n",
       "</pre>\n"
      ],
      "text/plain": [
       "\u001b[1mModel: \"sequential_18\"\u001b[0m\n"
      ]
     },
     "metadata": {},
     "output_type": "display_data"
    },
    {
     "data": {
      "text/html": [
       "<pre style=\"white-space:pre;overflow-x:auto;line-height:normal;font-family:Menlo,'DejaVu Sans Mono',consolas,'Courier New',monospace\">┏━━━━━━━━━━━━━━━━━━━━━━━━━━━━━━━━━━━━━━┳━━━━━━━━━━━━━━━━━━━━━━━━━━━━━┳━━━━━━━━━━━━━━━━━┓\n",
       "┃<span style=\"font-weight: bold\"> Layer (type)                         </span>┃<span style=\"font-weight: bold\"> Output Shape                </span>┃<span style=\"font-weight: bold\">         Param # </span>┃\n",
       "┡━━━━━━━━━━━━━━━━━━━━━━━━━━━━━━━━━━━━━━╇━━━━━━━━━━━━━━━━━━━━━━━━━━━━━╇━━━━━━━━━━━━━━━━━┩\n",
       "│ flatten_13 (<span style=\"color: #0087ff; text-decoration-color: #0087ff\">Flatten</span>)                 │ (<span style=\"color: #00d7ff; text-decoration-color: #00d7ff\">None</span>, <span style=\"color: #00af00; text-decoration-color: #00af00\">784</span>)                 │               <span style=\"color: #00af00; text-decoration-color: #00af00\">0</span> │\n",
       "├──────────────────────────────────────┼─────────────────────────────┼─────────────────┤\n",
       "│ dense_65 (<span style=\"color: #0087ff; text-decoration-color: #0087ff\">Dense</span>)                     │ (<span style=\"color: #00d7ff; text-decoration-color: #00d7ff\">None</span>, <span style=\"color: #00af00; text-decoration-color: #00af00\">200</span>)                 │         <span style=\"color: #00af00; text-decoration-color: #00af00\">157,000</span> │\n",
       "├──────────────────────────────────────┼─────────────────────────────┼─────────────────┤\n",
       "│ dense_66 (<span style=\"color: #0087ff; text-decoration-color: #0087ff\">Dense</span>)                     │ (<span style=\"color: #00d7ff; text-decoration-color: #00d7ff\">None</span>, <span style=\"color: #00af00; text-decoration-color: #00af00\">100</span>)                 │          <span style=\"color: #00af00; text-decoration-color: #00af00\">20,100</span> │\n",
       "├──────────────────────────────────────┼─────────────────────────────┼─────────────────┤\n",
       "│ dense_67 (<span style=\"color: #0087ff; text-decoration-color: #0087ff\">Dense</span>)                     │ (<span style=\"color: #00d7ff; text-decoration-color: #00d7ff\">None</span>, <span style=\"color: #00af00; text-decoration-color: #00af00\">50</span>)                  │           <span style=\"color: #00af00; text-decoration-color: #00af00\">5,050</span> │\n",
       "├──────────────────────────────────────┼─────────────────────────────┼─────────────────┤\n",
       "│ dense_68 (<span style=\"color: #0087ff; text-decoration-color: #0087ff\">Dense</span>)                     │ (<span style=\"color: #00d7ff; text-decoration-color: #00d7ff\">None</span>, <span style=\"color: #00af00; text-decoration-color: #00af00\">10</span>)                  │             <span style=\"color: #00af00; text-decoration-color: #00af00\">510</span> │\n",
       "└──────────────────────────────────────┴─────────────────────────────┴─────────────────┘\n",
       "</pre>\n"
      ],
      "text/plain": [
       "┏━━━━━━━━━━━━━━━━━━━━━━━━━━━━━━━━━━━━━━┳━━━━━━━━━━━━━━━━━━━━━━━━━━━━━┳━━━━━━━━━━━━━━━━━┓\n",
       "┃\u001b[1m \u001b[0m\u001b[1mLayer (type)                        \u001b[0m\u001b[1m \u001b[0m┃\u001b[1m \u001b[0m\u001b[1mOutput Shape               \u001b[0m\u001b[1m \u001b[0m┃\u001b[1m \u001b[0m\u001b[1m        Param #\u001b[0m\u001b[1m \u001b[0m┃\n",
       "┡━━━━━━━━━━━━━━━━━━━━━━━━━━━━━━━━━━━━━━╇━━━━━━━━━━━━━━━━━━━━━━━━━━━━━╇━━━━━━━━━━━━━━━━━┩\n",
       "│ flatten_13 (\u001b[38;5;33mFlatten\u001b[0m)                 │ (\u001b[38;5;45mNone\u001b[0m, \u001b[38;5;34m784\u001b[0m)                 │               \u001b[38;5;34m0\u001b[0m │\n",
       "├──────────────────────────────────────┼─────────────────────────────┼─────────────────┤\n",
       "│ dense_65 (\u001b[38;5;33mDense\u001b[0m)                     │ (\u001b[38;5;45mNone\u001b[0m, \u001b[38;5;34m200\u001b[0m)                 │         \u001b[38;5;34m157,000\u001b[0m │\n",
       "├──────────────────────────────────────┼─────────────────────────────┼─────────────────┤\n",
       "│ dense_66 (\u001b[38;5;33mDense\u001b[0m)                     │ (\u001b[38;5;45mNone\u001b[0m, \u001b[38;5;34m100\u001b[0m)                 │          \u001b[38;5;34m20,100\u001b[0m │\n",
       "├──────────────────────────────────────┼─────────────────────────────┼─────────────────┤\n",
       "│ dense_67 (\u001b[38;5;33mDense\u001b[0m)                     │ (\u001b[38;5;45mNone\u001b[0m, \u001b[38;5;34m50\u001b[0m)                  │           \u001b[38;5;34m5,050\u001b[0m │\n",
       "├──────────────────────────────────────┼─────────────────────────────┼─────────────────┤\n",
       "│ dense_68 (\u001b[38;5;33mDense\u001b[0m)                     │ (\u001b[38;5;45mNone\u001b[0m, \u001b[38;5;34m10\u001b[0m)                  │             \u001b[38;5;34m510\u001b[0m │\n",
       "└──────────────────────────────────────┴─────────────────────────────┴─────────────────┘\n"
      ]
     },
     "metadata": {},
     "output_type": "display_data"
    },
    {
     "data": {
      "text/html": [
       "<pre style=\"white-space:pre;overflow-x:auto;line-height:normal;font-family:Menlo,'DejaVu Sans Mono',consolas,'Courier New',monospace\"><span style=\"font-weight: bold\"> Total params: </span><span style=\"color: #00af00; text-decoration-color: #00af00\">182,660</span> (713.52 KB)\n",
       "</pre>\n"
      ],
      "text/plain": [
       "\u001b[1m Total params: \u001b[0m\u001b[38;5;34m182,660\u001b[0m (713.52 KB)\n"
      ]
     },
     "metadata": {},
     "output_type": "display_data"
    },
    {
     "data": {
      "text/html": [
       "<pre style=\"white-space:pre;overflow-x:auto;line-height:normal;font-family:Menlo,'DejaVu Sans Mono',consolas,'Courier New',monospace\"><span style=\"font-weight: bold\"> Trainable params: </span><span style=\"color: #00af00; text-decoration-color: #00af00\">182,660</span> (713.52 KB)\n",
       "</pre>\n"
      ],
      "text/plain": [
       "\u001b[1m Trainable params: \u001b[0m\u001b[38;5;34m182,660\u001b[0m (713.52 KB)\n"
      ]
     },
     "metadata": {},
     "output_type": "display_data"
    },
    {
     "data": {
      "text/html": [
       "<pre style=\"white-space:pre;overflow-x:auto;line-height:normal;font-family:Menlo,'DejaVu Sans Mono',consolas,'Courier New',monospace\"><span style=\"font-weight: bold\"> Non-trainable params: </span><span style=\"color: #00af00; text-decoration-color: #00af00\">0</span> (0.00 B)\n",
       "</pre>\n"
      ],
      "text/plain": [
       "\u001b[1m Non-trainable params: \u001b[0m\u001b[38;5;34m0\u001b[0m (0.00 B)\n"
      ]
     },
     "metadata": {},
     "output_type": "display_data"
    }
   ],
   "source": [
    "model.summary()"
   ]
  },
  {
   "cell_type": "code",
   "execution_count": 778,
   "id": "b6e825c5-7657-4a6b-a27d-efa5f3a27611",
   "metadata": {},
   "outputs": [],
   "source": [
    "weights, biases = model.layers[1].get_weights()"
   ]
  },
  {
   "cell_type": "code",
   "execution_count": 780,
   "id": "972e131c-54e2-43e9-949e-3b7a1a291d76",
   "metadata": {},
   "outputs": [
    {
     "data": {
      "text/plain": [
       "array([[ 0.03492083,  0.01739061,  0.04471492, ...,  0.01268718,\n",
       "        -0.03156218, -0.0674917 ],\n",
       "       [-0.02354331,  0.0057385 ,  0.02630222, ...,  0.05620477,\n",
       "         0.06460539, -0.06745512],\n",
       "       [-0.00142413,  0.04040614, -0.01525648, ...,  0.05342573,\n",
       "         0.07506722, -0.07402331],\n",
       "       ...,\n",
       "       [-0.06456046, -0.0506283 , -0.00087745, ..., -0.07464758,\n",
       "        -0.0068313 , -0.06440423],\n",
       "       [-0.01216626, -0.01086143,  0.05164969, ..., -0.04669968,\n",
       "         0.01809245, -0.067444  ],\n",
       "       [ 0.04495667,  0.05215813,  0.02961684, ..., -0.04208338,\n",
       "         0.01609637,  0.06781648]], dtype=float32)"
      ]
     },
     "execution_count": 780,
     "metadata": {},
     "output_type": "execute_result"
    }
   ],
   "source": [
    "weights"
   ]
  },
  {
   "cell_type": "code",
   "execution_count": 782,
   "id": "7adfc302-c326-4e5d-88a1-2ed700c166e6",
   "metadata": {},
   "outputs": [
    {
     "data": {
      "text/plain": [
       "array([0., 0., 0., 0., 0., 0., 0., 0., 0., 0., 0., 0., 0., 0., 0., 0., 0.,\n",
       "       0., 0., 0., 0., 0., 0., 0., 0., 0., 0., 0., 0., 0., 0., 0., 0., 0.,\n",
       "       0., 0., 0., 0., 0., 0., 0., 0., 0., 0., 0., 0., 0., 0., 0., 0., 0.,\n",
       "       0., 0., 0., 0., 0., 0., 0., 0., 0., 0., 0., 0., 0., 0., 0., 0., 0.,\n",
       "       0., 0., 0., 0., 0., 0., 0., 0., 0., 0., 0., 0., 0., 0., 0., 0., 0.,\n",
       "       0., 0., 0., 0., 0., 0., 0., 0., 0., 0., 0., 0., 0., 0., 0., 0., 0.,\n",
       "       0., 0., 0., 0., 0., 0., 0., 0., 0., 0., 0., 0., 0., 0., 0., 0., 0.,\n",
       "       0., 0., 0., 0., 0., 0., 0., 0., 0., 0., 0., 0., 0., 0., 0., 0., 0.,\n",
       "       0., 0., 0., 0., 0., 0., 0., 0., 0., 0., 0., 0., 0., 0., 0., 0., 0.,\n",
       "       0., 0., 0., 0., 0., 0., 0., 0., 0., 0., 0., 0., 0., 0., 0., 0., 0.,\n",
       "       0., 0., 0., 0., 0., 0., 0., 0., 0., 0., 0., 0., 0., 0., 0., 0., 0.,\n",
       "       0., 0., 0., 0., 0., 0., 0., 0., 0., 0., 0., 0., 0.], dtype=float32)"
      ]
     },
     "execution_count": 782,
     "metadata": {},
     "output_type": "execute_result"
    }
   ],
   "source": [
    "biases"
   ]
  },
  {
   "cell_type": "markdown",
   "id": "7c9ac760-bfea-4d7f-8c53-9ec0393eedf3",
   "metadata": {},
   "source": [
    "<font size=\"4\">Initial weights are random which is correct and the initial biases are all set to zero by default. Next, a few parameters are defined and the model gets compiled.</font>"
   ]
  },
  {
   "cell_type": "code",
   "execution_count": 785,
   "id": "fa8eb4a5-fb8f-48e5-83f1-b041982904e7",
   "metadata": {},
   "outputs": [],
   "source": [
    "model.compile(loss = 'sparse_categorical_crossentropy', optimizer = 'sgd', metrics = ['accuracy'])"
   ]
  },
  {
   "cell_type": "markdown",
   "id": "795c762e-677a-4c47-9f58-abf45106bbc4",
   "metadata": {},
   "source": [
    "<font size=\"5\">**Train and test the model**</font>\n",
    "\n",
    "<font size=\"4\">In this section, the model is trained and then evaluated by the testing data.</font>"
   ]
  },
  {
   "cell_type": "code",
   "execution_count": null,
   "id": "8b93e3f2-dcb2-417a-965c-234c6b966db7",
   "metadata": {},
   "outputs": [],
   "source": [
    "train_model = model.fit(X_train, y_train, epochs = 50, validation_data = (X_valid, y_valid))"
   ]
  },
  {
   "cell_type": "code",
   "execution_count": 790,
   "id": "a8337c67-2261-4ed2-b866-b8827fad1a0e",
   "metadata": {},
   "outputs": [
    {
     "data": {
      "image/png": "[encoded data removed]",
      "text/plain": [
       "<Figure size 640x480 with 1 Axes>"
      ]
     },
     "metadata": {},
     "output_type": "display_data"
    }
   ],
   "source": [
    "pd.DataFrame(train_model.history).plot()\n",
    "plt.grid(True)\n",
    "plt.gca().set_ylim(0,1)\n",
    "plt.show()"
   ]
  },
  {
   "cell_type": "markdown",
   "id": "fa748d2a-2910-4de5-86a4-944c821bf73b",
   "metadata": {},
   "source": [
    "<font size=\"4\">The performance measure (accuracy) is pretty well on both training and validation sets.</font>"
   ]
  },
  {
   "cell_type": "code",
   "execution_count": 793,
   "id": "62788bef-a6e4-47c0-9676-9ff3d895a479",
   "metadata": {},
   "outputs": [
    {
     "name": "stdout",
     "output_type": "stream",
     "text": [
      "\u001b[1m313/313\u001b[0m \u001b[32m━━━━━━━━━━━━━━━━━━━━\u001b[0m\u001b[37m\u001b[0m \u001b[1m1s\u001b[0m 2ms/step - accuracy: 0.8879 - loss: 0.3576\n"
     ]
    },
    {
     "data": {
      "text/plain": [
       "[0.3546326756477356, 0.8841000199317932]"
      ]
     },
     "execution_count": 793,
     "metadata": {},
     "output_type": "execute_result"
    }
   ],
   "source": [
    "model.evaluate(X_test, y_test)"
   ]
  },
  {
   "cell_type": "markdown",
   "id": "0bc595a9-34c0-4547-9958-56c5f5d2f002",
   "metadata": {},
   "source": [
    "<font size=\"4\">Accuracy on test set is close to those of validation set, indicating the model is not overfitted to the training set.</font>"
   ]
  },
  {
   "cell_type": "markdown",
   "id": "d61b6468-6dbc-4287-aae7-ed31b3bcd7c7",
   "metadata": {},
   "source": [
    "<font size=\"5\">**Bar plots**</font>\n",
    "\n",
    "<font size=\"4\">In this section, we input X_test into the model and compare the output with y_test across all classes. A bar plot is generated to visualize the count of correct predictions versus the total count for each class.\n",
    "Note: the model outputs the probability for each instance to belong to each of the 10 classes. The predicted class is determined as the one with the highest probability.</font>"
   ]
  },
  {
   "cell_type": "code",
   "execution_count": 797,
   "id": "0dc102ca-a2f8-40ba-b2cb-0f98ddc385e2",
   "metadata": {},
   "outputs": [
    {
     "name": "stdout",
     "output_type": "stream",
     "text": [
      "\u001b[1m313/313\u001b[0m \u001b[32m━━━━━━━━━━━━━━━━━━━━\u001b[0m\u001b[37m\u001b[0m \u001b[1m1s\u001b[0m 2ms/step\n"
     ]
    }
   ],
   "source": [
    "predict = model.predict(X_test)"
   ]
  },
  {
   "cell_type": "code",
   "execution_count": 799,
   "id": "3b81bc57-1c7e-427f-8d34-782254ed8148",
   "metadata": {},
   "outputs": [],
   "source": [
    "predict_classes = np.array([np.argmax(p) for p in predict])\n",
    "\n",
    "count_of_correct_prediction = [None] * 10 # create a list of 10 elements\n",
    "for i in range(10):\n",
    "    indices = np.where(y_test==i)[0]\n",
    "    count_of_correct_prediction[i] = sum([1 if predict_classes[j]-y_test[j]==0 else 0 for j in indices])\n"
   ]
  },
  {
   "cell_type": "code",
   "execution_count": 801,
   "id": "3c24777a-64c8-4f15-b476-c71aeb51250c",
   "metadata": {},
   "outputs": [
    {
     "data": {
      "image/png": "[encoded data removed]",
      "text/plain": [
       "<Figure size 640x480 with 1 Axes>"
      ]
     },
     "metadata": {},
     "output_type": "display_data"
    }
   ],
   "source": [
    "x = np.arange(1,11)\n",
    "width = 0.35\n",
    "plt.bar(x - width/2, count[0], color='b', width=width)\n",
    "plt.bar(x + width/2, count_of_correct_prediction, color='r', width=width)\n",
    "plt.xticks(x)\n",
    "plt.xlabel('Class')\n",
    "plt.ylabel('Count')\n",
    "plt.legend(['Count in test data', 'Count of correct predictions'], loc='lower center', bbox_to_anchor=(0.5, -0.25), ncol=2)\n",
    "\n",
    "plt.show()"
   ]
  },
  {
   "cell_type": "markdown",
   "id": "c3071a86-4c31-48e4-a8d6-089040371445",
   "metadata": {},
   "source": [
    "<font size=\"4\">Based on the barplot, the model performed fairly well in predicting classes; however, a few classes such as class 7, 5, and 1 were not predicted as well as others.</font>"
   ]
  }
 ],
 "metadata": {
  "kernelspec": {
   "display_name": "Python 3 (ipykernel)",
   "language": "python",
   "name": "python3"
  },
  "language_info": {
   "codemirror_mode": {
    "name": "ipython",
    "version": 3
   },
   "file_extension": ".py",
   "mimetype": "text/x-python",
   "name": "python",
   "nbconvert_exporter": "python",
   "pygments_lexer": "ipython3",
   "version": "3.12.4"
  }
 },
 "nbformat": 4,
 "nbformat_minor": 5
}
